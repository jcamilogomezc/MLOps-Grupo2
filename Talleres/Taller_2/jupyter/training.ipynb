{
 "cells": [
  {
   "cell_type": "markdown",
   "id": "33ff0696",
   "metadata": {},
   "source": [
    "# Palmer Penguins Predictive Models"
   ]
  },
  {
   "cell_type": "markdown",
   "id": "a8c55b37",
   "metadata": {},
   "source": [
    "## EDA"
   ]
  },
  {
   "cell_type": "code",
   "execution_count": null,
   "id": "f494d61f",
   "metadata": {
    "vscode": {
     "languageId": "plaintext"
    }
   },
   "outputs": [],
   "source": [
    "import pandas as pd\n",
    "import numpy as np\n",
    "from palmerpenguins import load_penguins\n",
    "\n",
    "# Load the penguins dataset\n",
    "penguins = load_penguins()\n",
    "\n",
    "# Convert to a DataFrame\n",
    "df = pd.DataFrame(penguins)\n",
    "\n",
    "# Display the first few rows of the DataFrame\n",
    "print(df.head())"
   ]
  },
  {
   "cell_type": "code",
   "execution_count": null,
   "id": "5c69f724",
   "metadata": {
    "vscode": {
     "languageId": "plaintext"
    }
   },
   "outputs": [],
   "source": [
    "# Use ydata-profiling to generate a report\n",
    "from ydata_profiling import ProfileReport\n",
    "\n",
    "profile = ProfileReport(df, title=\"Penguins Dataset Profiling Report\", explorative=True)\n",
    "# Save the report to an HTML file\n",
    "profile.to_file(\"penguins_profiling_report.html\")"
   ]
  },
  {
   "cell_type": "code",
   "execution_count": null,
   "id": "cfc3424d",
   "metadata": {
    "vscode": {
     "languageId": "plaintext"
    }
   },
   "outputs": [],
   "source": [
    "%matplotlib inline\n",
    "import matplotlib.pyplot as plt\n",
    "\n",
    "species_island_counts = df.groupby(['species', 'island']).size().unstack()\n",
    "species_island_counts.plot(kind='bar', stacked=True)\n",
    "plt.ylabel('Count')\n",
    "plt.title('Penguin Species Distribution by Island')\n",
    "plt.show()"
   ]
  },
  {
   "cell_type": "markdown",
   "id": "336a68e0",
   "metadata": {},
   "source": [
    "## Training models"
   ]
  },
  {
   "cell_type": "markdown",
   "id": "c9e82c01",
   "metadata": {},
   "source": [
    "### Import Libraries"
   ]
  },
  {
   "cell_type": "code",
   "execution_count": null,
   "id": "8c95fbe0",
   "metadata": {
    "vscode": {
     "languageId": "plaintext"
    }
   },
   "outputs": [],
   "source": [
    "from sklearn.model_selection import train_test_split\n",
    "from sklearn.preprocessing import StandardScaler, OneHotEncoder\n",
    "from sklearn.impute import SimpleImputer\n",
    "from sklearn.compose import ColumnTransformer\n",
    "from sklearn.pipeline import Pipeline\n",
    "from sklearn.linear_model import LogisticRegression\n",
    "from sklearn.ensemble import RandomForestClassifier\n",
    "from sklearn.svm import SVC\n",
    "from sklearn.metrics import accuracy_score, classification_report\n",
    "import joblib\n",
    "import os"
   ]
  },
  {
   "cell_type": "markdown",
   "id": "a3e384df",
   "metadata": {},
   "source": [
    "### Load DataSet"
   ]
  },
  {
   "cell_type": "code",
   "execution_count": null,
   "id": "fa9ee292",
   "metadata": {
    "vscode": {
     "languageId": "plaintext"
    }
   },
   "outputs": [],
   "source": [
    "penguins = load_penguins()\n",
    "penguins = penguins.dropna(subset=['species'])\n",
    "\n",
    "# Separate features and target\n",
    "X = penguins.drop(columns='species')\n",
    "y = penguins['species']\n",
    "\n",
    "# Separate features and target\n",
    "X = penguins.drop(columns='species')\n",
    "y = penguins['species']\n",
    "\n",
    "# Identify column types\n",
    "numeric_features = ['bill_length_mm', 'bill_depth_mm', 'flipper_length_mm', 'body_mass_g']\n",
    "\n",
    "# categorical_features = ['sex']\n",
    "categorical_features = ['island', 'sex']\n",
    "\n",
    "# Preprocessing for numeric data\n",
    "numeric_transformer = Pipeline(steps=[\n",
    "    ('imputer', SimpleImputer(strategy='median')),\n",
    "    ('scaler', StandardScaler())\n",
    "])\n",
    "\n",
    "# Preprocessing for categorical data\n",
    "categorical_transformer = Pipeline(steps=[\n",
    "    ('imputer', SimpleImputer(strategy='most_frequent')),\n",
    "    ('encoder', OneHotEncoder(handle_unknown='ignore'))\n",
    "])\n",
    "\n",
    "# Combine preprocessing\n",
    "preprocessor = ColumnTransformer(\n",
    "    transformers=[\n",
    "        ('num', numeric_transformer, numeric_features),\n",
    "        ('cat', categorical_transformer, categorical_features)\n",
    "    ]\n",
    ")\n",
    "\n",
    "# Split data\n",
    "X_train, X_test, y_train, y_test = train_test_split(\n",
    "    X, y, test_size=0.2, random_state=42, stratify=y\n",
    ")"
   ]
  },
  {
   "cell_type": "markdown",
   "id": "5ef3f745",
   "metadata": {},
   "source": [
    "### Create Models"
   ]
  },
  {
   "cell_type": "code",
   "execution_count": null,
   "id": "dc65f134",
   "metadata": {
    "vscode": {
     "languageId": "plaintext"
    }
   },
   "outputs": [],
   "source": [
    "models = {\n",
    "    \"logistic_regression\": LogisticRegression(max_iter=1000),\n",
    "    \"random_forest\": RandomForestClassifier(random_state=42),\n",
    "    \"svc\": SVC(kernel='rbf', probability=True, random_state=42)\n",
    "}"
   ]
  },
  {
   "cell_type": "markdown",
   "id": "c4d14e24",
   "metadata": {},
   "source": [
    "### Train, evaluate and save"
   ]
  },
  {
   "cell_type": "code",
   "execution_count": null,
   "id": "fe40ccf3",
   "metadata": {
    "vscode": {
     "languageId": "plaintext"
    }
   },
   "outputs": [],
   "source": [
    "results = {}\n",
    "for name, model in models.items():\n",
    "    clf = Pipeline(steps=[\n",
    "        ('preprocessor', preprocessor),\n",
    "        ('classifier', model)\n",
    "    ])\n",
    "    \n",
    "    clf.fit(X_train, y_train)\n",
    "    y_pred = clf.predict(X_test)\n",
    "    acc = accuracy_score(y_test, y_pred)\n",
    "    results[name] = acc\n",
    "    \n",
    "    print(f\"\\n{name} Accuracy: {acc:.4f}\")\n",
    "    print(classification_report(y_test, y_pred))\n",
    "    \n",
    "    # Save the full pipeline (preprocessing + model)\n",
    "    model_path = f\"../models/{name}.joblib\"\n",
    "    joblib.dump(clf, model_path)\n",
    "    print(f\"✅ Saved model to {model_path}\")\n",
    "\n",
    "print(\"\\nModel comparison:\", results)"
   ]
  },
  {
   "cell_type": "markdown",
   "id": "dbb6b838",
   "metadata": {},
   "source": [
    "## Training New Models"
   ]
  },
  {
   "cell_type": "code",
   "execution_count": null,
   "id": "3e4a407f",
   "metadata": {
    "vscode": {
     "languageId": "plaintext"
    }
   },
   "outputs": [],
   "source": [
    "from catboost import CatBoostClassifier\n",
    "from sklearn.ensemble import AdaBoostClassifier\n",
    "\n",
    "new_models = {  \n",
    "    \"catboost\": CatBoostClassifier(random_state=42, verbose=False),\n",
    "    \"adaboost\": AdaBoostClassifier(n_estimators=100, random_state=42)\n",
    "}"
   ]
  },
  {
   "cell_type": "code",
   "execution_count": null,
   "id": "130d96ed",
   "metadata": {
    "vscode": {
     "languageId": "plaintext"
    }
   },
   "outputs": [],
   "source": [
    "new_results = {}\n",
    "for name, model in new_models.items():\n",
    "    clf = Pipeline(steps=[\n",
    "        ('preprocessor', preprocessor),\n",
    "        ('classifier', model)\n",
    "    ])\n",
    "    \n",
    "    clf.fit(X_train, y_train)\n",
    "    y_pred = clf.predict(X_test)\n",
    "    acc = accuracy_score(y_test, y_pred)\n",
    "    new_results[name] = acc\n",
    "    \n",
    "    print(f\"\\n{name} Accuracy: {acc:.4f}\")\n",
    "    print(classification_report(y_test, y_pred))\n",
    "    \n",
    "    # Save the full pipeline (preprocessing + model)\n",
    "    model_path = f\"../models/{name}.joblib\"\n",
    "    joblib.dump(clf, model_path)\n",
    "    print(f\"✅ Saved model to {model_path}\")\n",
    "\n",
    "print(\"\\nModel comparison:\", new_results)"
   ]
  }
 ],
 "metadata": {
  "language_info": {
   "name": "python"
  }
 },
 "nbformat": 4,
 "nbformat_minor": 5
}
